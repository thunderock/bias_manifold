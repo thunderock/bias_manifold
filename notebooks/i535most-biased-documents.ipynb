{
 "cells": [
  {
   "cell_type": "code",
   "execution_count": 1,
   "id": "cfbcd342",
   "metadata": {},
   "outputs": [],
   "source": [
    "import os, sys\n",
    "sys.path.insert(0, '..')"
   ]
  },
  {
   "cell_type": "code",
   "execution_count": 2,
   "id": "43d7743e",
   "metadata": {},
   "outputs": [
    {
     "name": "stderr",
     "output_type": "stream",
     "text": [
      "/data/sg/ashutiwa/miniconda3/lib/python3.7/site-packages/tqdm/auto.py:22: TqdmWarning: IProgress not found. Please update jupyter and ipywidgets. See https://ipywidgets.readthedocs.io/en/stable/user_install.html\n",
      "  from .autonotebook import tqdm as notebook_tqdm\n"
     ]
    }
   ],
   "source": [
    "import gc\n",
    "import numpy as np\n",
    "import matplotlib.pyplot as plt\n",
    "import seaborn as sns\n",
    "import warnings\n",
    "from os.path import join as j\n",
    "from datasets.wikidataset import WikiDataset\n",
    "\n",
    "warnings.filterwarnings('ignore')\n",
    "gc.enable()"
   ]
  },
  {
   "cell_type": "code",
   "execution_count": 3,
   "id": "530a643a",
   "metadata": {},
   "outputs": [
    {
     "name": "stderr",
     "output_type": "stream",
     "text": [
      "Using existing file simplewiki-20171103-pages-articles-multistream.xml.bz2\n",
      "100%|████████████████████████████████████████████████████████████████████████████████████████████████████████████████| 85577/85577 [00:01<00:00, 44948.52it/s]\n"
     ]
    }
   ],
   "source": [
    "URL = 'http://www.cs.toronto.edu/~mebrunet/simplewiki-20171103-pages-articles-multistream.xml.bz2'\n",
    "# first train the glove model\n",
    "\n",
    "documents = WikiDataset(URL).lines"
   ]
  },
  {
   "cell_type": "code",
   "execution_count": 4,
   "id": "2605717d",
   "metadata": {},
   "outputs": [
    {
     "data": {
      "text/plain": [
       "(85577, 7)"
      ]
     },
     "execution_count": 4,
     "metadata": {},
     "output_type": "execute_result"
    }
   ],
   "source": [
    "# load the bias gradient scores\n",
    "scores = np.load(\"../bias_gradient.npy\")\n",
    "scores.shape"
   ]
  },
  {
   "cell_type": "code",
   "execution_count": 5,
   "id": "49fda384",
   "metadata": {},
   "outputs": [],
   "source": [
    "# taking mean of test to represent the score of each document\n",
    "scores = np.mean(scores, axis=1)"
   ]
  },
  {
   "cell_type": "code",
   "execution_count": 6,
   "id": "3468a31a",
   "metadata": {},
   "outputs": [
    {
     "data": {
      "text/plain": [
       "Text(0.5, 1.0, 'WIKI DATASET: Document Bias Scores')"
      ]
     },
     "execution_count": 6,
     "metadata": {},
     "output_type": "execute_result"
    },
    {
     "data": {
      "image/png": "[encoded data removed]",
      "text/plain": [
       "<Figure size 432x288 with 1 Axes>"
      ]
     },
     "metadata": {
      "needs_background": "light"
     },
     "output_type": "display_data"
    }
   ],
   "source": [
    "sns.kdeplot(scores, common_norm=False, bw_adjust=100)\n",
    "plt.title(\"WIKI DATASET: Document Bias Scores\")"
   ]
  },
  {
   "cell_type": "code",
   "execution_count": null,
   "id": "de445bff",
   "metadata": {},
   "outputs": [],
   "source": []
  }
 ],
 "metadata": {
  "kernelspec": {
   "display_name": "Python 3 (ipykernel)",
   "language": "python",
   "name": "python3"
  },
  "language_info": {
   "codemirror_mode": {
    "name": "ipython",
    "version": 3
   },
   "file_extension": ".py",
   "mimetype": "text/x-python",
   "name": "python",
   "nbconvert_exporter": "python",
   "pygments_lexer": "ipython3",
   "version": "3.7.13"
  }
 },
 "nbformat": 4,
 "nbformat_minor": 5
}
