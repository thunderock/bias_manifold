{
 "cells": [
  {
   "cell_type": "code",
   "execution_count": 1,
   "id": "746e9731",
   "metadata": {
    "_cell_guid": "b1076dfc-b9ad-4769-8c92-a6c4dae69d19",
    "_uuid": "8f2839f25d086af736a60e9eeb907d3b93b6e0e5",
    "execution": {
     "iopub.execute_input": "2022-07-25T21:34:17.878191Z",
     "iopub.status.busy": "2022-07-25T21:34:17.877137Z",
     "iopub.status.idle": "2022-07-25T21:34:25.476291Z",
     "shell.execute_reply": "2022-07-25T21:34:25.474789Z"
    },
    "papermill": {
     "duration": 7.610768,
     "end_time": "2022-07-25T21:34:25.479311",
     "exception": false,
     "start_time": "2022-07-25T21:34:17.868543",
     "status": "completed"
    },
    "tags": []
   },
   "outputs": [],
   "source": [
    "import os, sys\n",
    "sys.path.insert(0, '..')"
   ]
  },
  {
   "cell_type": "code",
   "execution_count": 2,
   "id": "ea10bb22",
   "metadata": {
    "execution": {
     "iopub.execute_input": "2022-07-25T21:34:25.496186Z",
     "iopub.status.busy": "2022-07-25T21:34:25.495771Z",
     "iopub.status.idle": "2022-07-25T21:34:27.240079Z",
     "shell.execute_reply": "2022-07-25T21:34:27.238865Z"
    },
    "papermill": {
     "duration": 1.756255,
     "end_time": "2022-07-25T21:34:27.243135",
     "exception": false,
     "start_time": "2022-07-25T21:34:25.486880",
     "status": "completed"
    },
    "tags": []
   },
   "outputs": [],
   "source": [
    "import gensim\n",
    "import gc\n",
    "from os.path import join as j\n",
    "import json\n",
    "from tqdm import tqdm, trange\n",
    "from models import glove, custom_trained_model, word2vec\n",
    "from utils.dataset import PandasDataset\n",
    "from datasets.nyt import Nyt\n",
    "from utils.weat import WEAT\n",
    "from sklearn.decomposition import PCA\n",
    "from sklearn.discriminant_analysis import LinearDiscriminantAnalysis\n",
    "from sklearn.neighbors import KNeighborsClassifier\n",
    "import seaborn as sns, numpy as np, pandas as pd, random\n",
    "import matplotlib.pyplot as plt\n",
    "from mpl_toolkits.mplot3d import Axes3D\n",
    "import warnings\n",
    "warnings.filterwarnings('ignore')\n",
    "\n",
    "\n",
    "gc.enable()"
   ]
  },
  {
   "cell_type": "code",
   "execution_count": 3,
   "id": "f9f97b6a",
   "metadata": {
    "execution": {
     "iopub.execute_input": "2022-07-25T21:34:28.109054Z",
     "iopub.status.busy": "2022-07-25T21:34:28.108267Z",
     "iopub.status.idle": "2022-07-25T21:34:28.117355Z",
     "shell.execute_reply": "2022-07-25T21:34:28.115588Z"
    },
    "papermill": {
     "duration": 0.021183,
     "end_time": "2022-07-25T21:34:28.120507",
     "exception": false,
     "start_time": "2022-07-25T21:34:28.099324",
     "status": "completed"
    },
    "tags": []
   },
   "outputs": [],
   "source": [
    "def get_bar_plot(y, pred):\n",
    "    u = np.unique(y)\n",
    "    classes = len(u)\n",
    "    match = [0] * classes * 2\n",
    "    for idx, true in enumerate(y):\n",
    "        if true == pred[idx]:\n",
    "            match[true] += 1\n",
    "        else:\n",
    "            match[true + classes] += 1\n",
    "    return pd.DataFrame({'x': list(u) * 2, 'y': match, 'hue': [True] * classes + [False] * classes})"
   ]
  },
  {
   "cell_type": "code",
   "execution_count": 4,
   "id": "6f519876",
   "metadata": {
    "execution": {
     "iopub.execute_input": "2022-07-25T21:34:28.139951Z",
     "iopub.status.busy": "2022-07-25T21:34:28.139137Z",
     "iopub.status.idle": "2022-07-25T21:34:28.155622Z",
     "shell.execute_reply": "2022-07-25T21:34:28.154090Z"
    },
    "papermill": {
     "duration": 0.028658,
     "end_time": "2022-07-25T21:34:28.159094",
     "exception": false,
     "start_time": "2022-07-25T21:34:28.130436",
     "status": "completed"
    },
    "tags": []
   },
   "outputs": [],
   "source": [
    "def plot_(x, y, colors, z=None, title=\"year\", three=False, scale=True):\n",
    "    # https://stackoverflow.com/a/60621783\n",
    "    sns.set_style(\"whitegrid\", {'axes.grid' : False})\n",
    "    fig = plt.figure(figsize=(6,6))\n",
    "    if three:\n",
    "        ax = Axes3D(fig)\n",
    "        g = ax.scatter(x, y, z, c=colors, marker='o', depthshade=False, cmap='Paired')\n",
    "        if scale:\n",
    "            ax.set_zlim(-1, 1)\n",
    "            ax.set_xlim(-1, 1)\n",
    "            ax.set_ylim(-1, 1)\n",
    "        ax.set_zlabel('Z Label')\n",
    "        ax.set_xlabel('X Label')\n",
    "        ax.set_ylabel('Y Label')\n",
    "        ax.set_title(title)\n",
    "        legend = ax.legend(*g.legend_elements(), loc=\"lower center\", borderaxespad=-10, ncol=4)\n",
    "        ax.add_artist(legend)\n",
    "    else:\n",
    "        plt.scatter(x, y, c=colors)\n",
    "        if scale:\n",
    "            plt.xlim(-2, 2)\n",
    "            plt.ylim(-2, 2)\n",
    "        plt.title(title)\n",
    "    plt.show()"
   ]
  },
  {
   "cell_type": "code",
   "execution_count": 5,
   "id": "35201111",
   "metadata": {
    "execution": {
     "iopub.execute_input": "2022-07-25T21:34:28.182415Z",
     "iopub.status.busy": "2022-07-25T21:34:28.180952Z",
     "iopub.status.idle": "2022-07-25T21:34:28.197799Z",
     "shell.execute_reply": "2022-07-25T21:34:28.196845Z"
    },
    "papermill": {
     "duration": 0.032712,
     "end_time": "2022-07-25T21:34:28.201192",
     "exception": false,
     "start_time": "2022-07-25T21:34:28.168480",
     "status": "completed"
    },
    "tags": []
   },
   "outputs": [],
   "source": [
    "def plot_model(model, model_title, man_words, woman_words, occupations=[]):\n",
    "    \n",
    "    vecs = model.transform(man_words + woman_words + occupations)\n",
    "    colors = ['blue'] * len(man_words) + ['pink'] * len(woman_words) + ['green'] * len(occupations)\n",
    "    \n",
    "    # plot 3D graph using PCA\n",
    "    three = PCA(random_state=0).fit_transform(vecs)[:, :3]\n",
    "    plot_(three[:, 0], three[:, 1], z=three[:, 2], title=model_title + \"_3D_PCA\", three=True, scale=False, colors=colors)\n",
    "    \n",
    "    # plot 2 D plot using PCA\n",
    "    two = PCA(random_state=0).fit_transform(vecs)[:, :2]\n",
    "    plot_(two[:, 0], two[:, 1], title=model_title + \"_2D_PCA\", three=False, scale=False, colors=colors)\n",
    "    \n",
    "    \n",
    "    # plot LDA\n",
    "    y = np.concatenate([np.zeros(shape=len(man_words), dtype=int), np.ones(dtype=int, shape=len(woman_words)), \n",
    "                    np.full(dtype=int, shape=len(occupations), fill_value=2)]) \n",
    "    two = LinearDiscriminantAnalysis().fit_transform(vecs, y)\n",
    "    \n",
    "    knn = KNeighborsClassifier(n_neighbors=3)\n",
    "    knn.fit(vecs, y)\n",
    "    pred = knn.predict(vecs)\n",
    "    df = get_bar_plot(y=y, pred=pred)\n",
    "    if len(occupations):\n",
    "        plot_(two[:, 0], two[:, 1], title=model_title + \"_2D_LDA\", three=False, scale=False, colors=colors)\n",
    "    else:\n",
    "        plot_(two[:, 0], y, title=model_title + \"_1D_LDA\", three=False, scale=False, colors=colors)\n",
    "    sns.barplot(data=df, x='x', y='y', hue='hue', ).set_title(model_title + \"_KNN classification\")\n",
    "    plt.show()\n",
    "    return WEAT(model, words_json='../weat/weat.json').get_scores()"
   ]
  },
  {
   "cell_type": "code",
   "execution_count": 6,
   "id": "c2c7b5b8",
   "metadata": {},
   "outputs": [],
   "source": [
    "DIR = '/tmp/temp/'\n",
    "YEARS = range(1921, 2021, 10)\n",
    "EMBEDDINGS_DIR = '../trained_models/word2vec/embeddings_{}/'\n",
    "MAN, WOMAN, OCCUPATIONS = 'Man words', 'Woman words', 'Occupations with Human Stereotype Scores'\n",
    "words = json.load(open('../weat/GargWordList.json'))\n",
    "words[WOMAN].remove('femen') # not sure what femen is !! \n",
    "CSV = \"df_{st}_to_{end}.csv\"\n",
    "SCORES = np.zeros(shape=(len(YEARS), 7))\n",
    "CUSTOM_MODEL_PATH = \"../trained_models/GoogleNews-vectors-negative300.bin\""
   ]
  },
  {
   "cell_type": "markdown",
   "id": "1da03a63",
   "metadata": {
    "papermill": {
     "duration": 0.007627,
     "end_time": "2022-07-25T21:34:28.219809",
     "exception": false,
     "start_time": "2022-07-25T21:34:28.212182",
     "status": "completed"
    },
    "tags": []
   },
   "source": [
    "# WORD2VEC MODELS"
   ]
  },
  {
   "cell_type": "code",
   "execution_count": 7,
   "id": "8fee481e",
   "metadata": {},
   "outputs": [
    {
     "name": "stderr",
     "output_type": "stream",
     "text": [
      "100%|████████████████████████████████████████████████████████████████████████████████████████████| 10/10 [1:23:42<00:00, 502.21s/it]\n"
     ]
    }
   ],
   "source": [
    "for idx, y in enumerate(tqdm(YEARS)):\n",
    "    dataset = DIR + CSV.format(st=y, end=y+9)\n",
    "    saved_model_path = EMBEDDINGS_DIR.format(y)\n",
    "    lines = Nyt(dataset).lines\n",
    "    m = word2vec.Word2Vec(load=False).fit(lines).save(saved_model_path)\n",
    "    "
   ]
  },
  {
   "cell_type": "code",
   "execution_count": null,
   "id": "fb22e768",
   "metadata": {},
   "outputs": [],
   "source": []
  }
 ],
 "metadata": {
  "kernelspec": {
   "display_name": "Python 3 (ipykernel)",
   "language": "python",
   "name": "python3"
  },
  "language_info": {
   "codemirror_mode": {
    "name": "ipython",
    "version": 3
   },
   "file_extension": ".py",
   "mimetype": "text/x-python",
   "name": "python",
   "nbconvert_exporter": "python",
   "pygments_lexer": "ipython3",
   "version": "3.7.12"
  },
  "papermill": {
   "default_parameters": {},
   "duration": 1683.113672,
   "end_time": "2022-07-25T22:02:10.516303",
   "environment_variables": {},
   "exception": null,
   "input_path": "__notebook__.ipynb",
   "output_path": "__notebook__.ipynb",
   "parameters": {},
   "start_time": "2022-07-25T21:34:07.402631",
   "version": "2.3.4"
  }
 },
 "nbformat": 4,
 "nbformat_minor": 5
}
